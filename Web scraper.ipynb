{
 "cells": [
  {
   "cell_type": "code",
   "execution_count": null,
   "id": "d2823911",
   "metadata": {},
   "outputs": [],
   "source": [
    "# website that is being web scraped for the behavioral economics research is https://savelife.in.ua/en/reporting-en/"
   ]
  },
  {
   "cell_type": "code",
   "execution_count": 2,
   "id": "51033cc7",
   "metadata": {},
   "outputs": [],
   "source": [
    "#installing packages\n",
    "from bs4 import BeautifulSoup\n",
    "import pandas as pd\n",
    "import html"
   ]
  },
  {
   "cell_type": "code",
   "execution_count": null,
   "id": "237180c1",
   "metadata": {},
   "outputs": [],
   "source": [
    "#read and print content of the file to see the structure\n",
    "with open (r\"/Users/Masha/Desktop/Fund reporting – Come Back Alive.html\", 'r', encoding=\"utf8\")as html_file:\n",
    "    content = html_file.read()\n",
    "    soup=BeautifulSoup(content, 'lxml')\n",
    "    print(soup.prettify())"
   ]
  },
  {
   "cell_type": "code",
   "execution_count": null,
   "id": "ef5c3450",
   "metadata": {},
   "outputs": [],
   "source": [
    "#create and display Panda df\n",
    "data = pd.read_html(r\"/Users/Masha/Desktop/Fund reporting – Come Back Alive.html\", 'r', encoding=\"utf8\")[0]\n",
    "df = pd.DataFrame(data)\n",
    "df"
   ]
  },
  {
   "cell_type": "code",
   "execution_count": null,
   "id": "2f17d819",
   "metadata": {},
   "outputs": [],
   "source": [
    "#use undetected driver (to avoid captcha and bot check). do not forget to update Chrome to the latest version\n",
    "!pip install undetected-chromedriver\n",
    "import undetected_chromedriver as uc"
   ]
  },
  {
   "cell_type": "code",
   "execution_count": null,
   "id": "298b8815",
   "metadata": {},
   "outputs": [],
   "source": [
    "#open undetected chrome browser and access 'https://savelife.in.ua/en/reporting-en/'\n",
    "driver = uc.Chrome()\n",
    "driver.get(\"https://savelife.in.ua/en/reporting-en/\")"
   ]
  },
  {
   "cell_type": "code",
   "execution_count": 5,
   "id": "80c9222e",
   "metadata": {},
   "outputs": [],
   "source": [
    "#go through pages\n",
    "from selenium import webdriver\n",
    "from selenium.webdriver.common.by import By\n",
    "import time\n",
    "from selenium.webdriver.support.ui import WebDriverWait\n",
    "from selenium.webdriver.support import expected_conditions as EC\n",
    "!pip install html5lib"
   ]
  },
  {
   "cell_type": "code",
   "execution_count": 8,
   "id": "1ca42ab5",
   "metadata": {},
   "outputs": [],
   "source": [
    "#give a name to the web scraped df\n",
    "df_name=pd.DataFrame()"
   ]
  },
  {
   "cell_type": "code",
   "execution_count": null,
   "id": "3ab93bad",
   "metadata": {},
   "outputs": [],
   "source": [
    "#append data on webpage to the df and go to the next page, repeat until the last page\n",
    "\n",
    "while True:\n",
    "    #append data from tha last page\n",
    "    data = pd.read_html(driver.page_source)[0]\n",
    "    df_name = df_name.append(data)\n",
    "    \n",
    "    # find the \"next\" button element and click it. Variate time.sleep depending on your internet speed\n",
    "    next_button = driver.find_element(By.CSS_SELECTOR, \"button[aria-label='Go to next page']\")\n",
    "    driver.execute_script(\"arguments[0].scrollIntoView();\", next_button)\n",
    "    time.sleep(0.1)        \n",
    "    driver.execute_script(\"arguments[0].click();\", next_button)\n",
    "    time.sleep(6) \n",
    "    # wait for the next page to load (you may need to adjust this depending on page load times)\n",
    "    \n",
    "    # check if there are more pages to scrape\n",
    "    if next_button.is_enabled() == False:\n",
    "        break"
   ]
  },
  {
   "cell_type": "code",
   "execution_count": null,
   "id": "2561e680",
   "metadata": {},
   "outputs": [],
   "source": [
    "#use this code to append the data only from the current webpage\n",
    "data = pd.read_html(driver.page_source)[0]\n",
    "df_name = df_name.append(data)"
   ]
  },
  {
   "cell_type": "code",
   "execution_count": 224,
   "id": "155c4dbe",
   "metadata": {},
   "outputs": [],
   "source": [
    "#use this code to move to the page that you want, without webscraping the data\n",
    "\n",
    "page_count = 1\n",
    "while True:\n",
    "    # find the \"next\" button element and click it\n",
    "    next_button = driver.find_element(By.CSS_SELECTOR, \"button[aria-label='Go to next page']\")\n",
    "    driver.execute_script(\"arguments[0].scrollIntoView();\", next_button)\n",
    "    time.sleep(0.1)        \n",
    "    driver.execute_script(\"arguments[0].click();\", next_button)\n",
    "    time.sleep(2) \n",
    "    # wait for the next page to load (you may need to adjust this depending on page load times)\n",
    "    \n",
    "    # check if there are more pages to scrape\n",
    "    if next_button.is_enabled() == False:\n",
    "        break\n",
    "    \n",
    "    # increment page count and break the loop once the desired page is reached\n",
    "    page_count += 1\n",
    "    if page_count == 106:\n",
    "        break"
   ]
  },
  {
   "cell_type": "code",
   "execution_count": null,
   "id": "1ef994bc",
   "metadata": {},
   "outputs": [],
   "source": [
    "#display the webscraped df\n",
    "df_name"
   ]
  },
  {
   "cell_type": "code",
   "execution_count": 43,
   "id": "e7a93e75",
   "metadata": {},
   "outputs": [],
   "source": [
    "# save the dataframe to a CSV file\n",
    "df_name.to_csv('data_current_date.csv', index=False)"
   ]
  },
  {
   "cell_type": "code",
   "execution_count": 74,
   "id": "ab02cf8e",
   "metadata": {},
   "outputs": [],
   "source": [
    "# save the dataframe to a excel file\n",
    "df_name.to_excel('data_current_date.xlsx', index=False)"
   ]
  }
 ],
 "metadata": {
  "kernelspec": {
   "display_name": "Python 3 (ipykernel)",
   "language": "python",
   "name": "python3"
  },
  "language_info": {
   "codemirror_mode": {
    "name": "ipython",
    "version": 3
   },
   "file_extension": ".py",
   "mimetype": "text/x-python",
   "name": "python",
   "nbconvert_exporter": "python",
   "pygments_lexer": "ipython3",
   "version": "3.9.12"
  }
 },
 "nbformat": 4,
 "nbformat_minor": 5
}
