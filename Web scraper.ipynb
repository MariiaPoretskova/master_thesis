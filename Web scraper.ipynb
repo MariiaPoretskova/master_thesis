{
 "cells": [
  {
   "cell_type": "code",
   "execution_count": 196,
   "id": "4e5306da",
   "metadata": {},
   "outputs": [
    {
     "ename": "SyntaxError",
     "evalue": "invalid syntax (950168536.py, line 1)",
     "output_type": "error",
     "traceback": [
      "\u001b[0;36m  Input \u001b[0;32mIn [196]\u001b[0;36m\u001b[0m\n\u001b[0;31m    FEB 24 - didnt do yet\u001b[0m\n\u001b[0m        ^\u001b[0m\n\u001b[0;31mSyntaxError\u001b[0m\u001b[0;31m:\u001b[0m invalid syntax\n"
     ]
    }
   ],
   "source": [
    "FEB 24 - didnt do yet"
   ]
  },
  {
   "cell_type": "code",
   "execution_count": 1,
   "id": "51033cc7",
   "metadata": {},
   "outputs": [],
   "source": [
    "#pip install beautifulsoup4\n",
    "#pip install lxml\n",
    "from bs4 import BeautifulSoup\n",
    "import pandas as pd\n",
    "import html"
   ]
  },
  {
   "cell_type": "code",
   "execution_count": 2,
   "id": "c989e187",
   "metadata": {},
   "outputs": [],
   "source": [
    "#READ AND PRINT CONTENT OF THE FILE\n",
    "#with open (r\"/Users/Masha/Desktop/Fund reporting – Come Back Alive.html\", 'r', encoding=\"utf8\")as html_file:\n",
    "#    content = html_file.read()\n",
    "#    soup=BeautifulSoup(content, 'lxml')\n",
    "    #print(soup.prettify())"
   ]
  },
  {
   "cell_type": "code",
   "execution_count": 3,
   "id": "1917aa13",
   "metadata": {},
   "outputs": [
    {
     "name": "stderr",
     "output_type": "stream",
     "text": [
      "/var/folders/_m/_brk_qj1441f5htbhxk4bbvm0000gp/T/ipykernel_6662/3035315537.py:2: FutureWarning: Starting with pandas version 2.0 all arguments of read_html except for the argument 'io' will be keyword-only.\n",
      "  data = pd.read_html(r\"/Users/Masha/Desktop/Fund reporting – Come Back Alive.html\", 'r', encoding=\"utf8\")[0]\n"
     ]
    }
   ],
   "source": [
    "#CREATE PANDA DATAFRAME\n",
    "#data = pd.read_html(r\"/Users/Masha/Desktop/Fund reporting – Come Back Alive.html\", 'r', encoding=\"utf8\")[0]\n",
    "#df = pd.DataFrame(data)"
   ]
  },
  {
   "cell_type": "code",
   "execution_count": 7,
   "id": "d58441c7",
   "metadata": {},
   "outputs": [],
   "source": [
    "#df"
   ]
  },
  {
   "cell_type": "code",
   "execution_count": 2,
   "id": "ae320260",
   "metadata": {},
   "outputs": [],
   "source": [
    "#!pip install selenium\n",
    "#USE UNDETECTED DRIVER (to avoid captcha and bot check)\n",
    "#!pip install undetected-chromedriver\n",
    "import undetected_chromedriver as uc"
   ]
  },
  {
   "cell_type": "code",
   "execution_count": 3,
   "id": "94b1d5f1",
   "metadata": {},
   "outputs": [],
   "source": [
    "driver = uc.Chrome()"
   ]
  },
  {
   "cell_type": "code",
   "execution_count": 4,
   "id": "3ac3302e",
   "metadata": {},
   "outputs": [],
   "source": [
    "driver.get(\"https://savelife.in.ua/en/reporting-en/\")"
   ]
  },
  {
   "cell_type": "code",
   "execution_count": 5,
   "id": "80c9222e",
   "metadata": {},
   "outputs": [],
   "source": [
    "#Going through pages\n",
    "from selenium import webdriver\n",
    "from selenium.webdriver.common.by import By\n",
    "import time"
   ]
  },
  {
   "cell_type": "code",
   "execution_count": 6,
   "id": "ce1ed807",
   "metadata": {},
   "outputs": [],
   "source": [
    "from selenium.webdriver.support.ui import WebDriverWait\n",
    "from selenium.webdriver.support import expected_conditions as EC"
   ]
  },
  {
   "cell_type": "code",
   "execution_count": 7,
   "id": "3f33f37a",
   "metadata": {},
   "outputs": [
    {
     "name": "stdout",
     "output_type": "stream",
     "text": [
      "Requirement already satisfied: html5lib in ./opt/anaconda3/lib/python3.9/site-packages (1.1)\n",
      "Requirement already satisfied: six>=1.9 in ./opt/anaconda3/lib/python3.9/site-packages (from html5lib) (1.16.0)\n",
      "Requirement already satisfied: webencodings in ./opt/anaconda3/lib/python3.9/site-packages (from html5lib) (0.5.1)\n"
     ]
    }
   ],
   "source": [
    "!pip install html5lib"
   ]
  },
  {
   "cell_type": "code",
   "execution_count": 8,
   "id": "1ca42ab5",
   "metadata": {},
   "outputs": [],
   "source": [
    "df_feb_2022_24_only=pd.DataFrame()"
   ]
  },
  {
   "cell_type": "code",
   "execution_count": 69,
   "id": "a4dc3839",
   "metadata": {},
   "outputs": [
    {
     "name": "stderr",
     "output_type": "stream",
     "text": [
      "/var/folders/_m/_brk_qj1441f5htbhxk4bbvm0000gp/T/ipykernel_1137/2069596016.py:6: FutureWarning: The frame.append method is deprecated and will be removed from pandas in a future version. Use pandas.concat instead.\n",
      "  df_feb_2022_24_only = df_feb_2022_24_only.append(data)\n"
     ]
    },
    {
     "ename": "NoSuchElementException",
     "evalue": "Message: no such element: Unable to locate element: {\"method\":\"css selector\",\"selector\":\"button[aria-label='Go to next page']\"}\n  (Session info: chrome=113.0.5672.63)\nStacktrace:\n0   undetected_chromedriver             0x0000000103b3b598 undetected_chromedriver + 4973976\n1   undetected_chromedriver             0x0000000103b32913 undetected_chromedriver + 4938003\n2   undetected_chromedriver             0x00000001036efcd6 undetected_chromedriver + 470230\n3   undetected_chromedriver             0x00000001037332ff undetected_chromedriver + 746239\n4   undetected_chromedriver             0x0000000103733591 undetected_chromedriver + 746897\n5   undetected_chromedriver             0x0000000103775384 undetected_chromedriver + 1016708\n6   undetected_chromedriver             0x00000001037579ed undetected_chromedriver + 895469\n7   undetected_chromedriver             0x0000000103772856 undetected_chromedriver + 1005654\n8   undetected_chromedriver             0x0000000103757793 undetected_chromedriver + 894867\n9   undetected_chromedriver             0x000000010372521f undetected_chromedriver + 688671\n10  undetected_chromedriver             0x000000010372656e undetected_chromedriver + 693614\n11  undetected_chromedriver             0x0000000103af5bb7 undetected_chromedriver + 4688823\n12  undetected_chromedriver             0x0000000103afaa51 undetected_chromedriver + 4708945\n13  undetected_chromedriver             0x0000000103b0140f undetected_chromedriver + 4736015\n14  undetected_chromedriver             0x0000000103afb91a undetected_chromedriver + 4712730\n15  undetected_chromedriver             0x0000000103ace87c undetected_chromedriver + 4528252\n16  undetected_chromedriver             0x0000000103b1af28 undetected_chromedriver + 4841256\n17  undetected_chromedriver             0x0000000103b1b0a7 undetected_chromedriver + 4841639\n18  undetected_chromedriver             0x0000000103b2c28f undetected_chromedriver + 4911759\n19  libsystem_pthread.dylib             0x00007ff809f374e1 _pthread_start + 125\n20  libsystem_pthread.dylib             0x00007ff809f32f6b thread_start + 15\n",
     "output_type": "error",
     "traceback": [
      "\u001b[0;31m---------------------------------------------------------------------------\u001b[0m",
      "\u001b[0;31mNoSuchElementException\u001b[0m                    Traceback (most recent call last)",
      "Input \u001b[0;32mIn [69]\u001b[0m, in \u001b[0;36m<cell line: 5>\u001b[0;34m()\u001b[0m\n\u001b[1;32m      6\u001b[0m df_feb_2022_24_only \u001b[38;5;241m=\u001b[39m df_feb_2022_24_only\u001b[38;5;241m.\u001b[39mappend(data)\n\u001b[1;32m      8\u001b[0m \u001b[38;5;66;03m# find the \"next\" button element and click it\u001b[39;00m\n\u001b[0;32m----> 9\u001b[0m next_button \u001b[38;5;241m=\u001b[39m \u001b[43mdriver\u001b[49m\u001b[38;5;241;43m.\u001b[39;49m\u001b[43mfind_element\u001b[49m\u001b[43m(\u001b[49m\u001b[43mBy\u001b[49m\u001b[38;5;241;43m.\u001b[39;49m\u001b[43mCSS_SELECTOR\u001b[49m\u001b[43m,\u001b[49m\u001b[43m \u001b[49m\u001b[38;5;124;43m\"\u001b[39;49m\u001b[38;5;124;43mbutton[aria-label=\u001b[39;49m\u001b[38;5;124;43m'\u001b[39;49m\u001b[38;5;124;43mGo to next page\u001b[39;49m\u001b[38;5;124;43m'\u001b[39;49m\u001b[38;5;124;43m]\u001b[39;49m\u001b[38;5;124;43m\"\u001b[39;49m\u001b[43m)\u001b[49m\n\u001b[1;32m     10\u001b[0m driver\u001b[38;5;241m.\u001b[39mexecute_script(\u001b[38;5;124m\"\u001b[39m\u001b[38;5;124marguments[0].scrollIntoView();\u001b[39m\u001b[38;5;124m\"\u001b[39m, next_button)\n\u001b[1;32m     11\u001b[0m time\u001b[38;5;241m.\u001b[39msleep(\u001b[38;5;241m0.1\u001b[39m)        \n",
      "File \u001b[0;32m~/opt/anaconda3/lib/python3.9/site-packages/selenium/webdriver/remote/webdriver.py:831\u001b[0m, in \u001b[0;36mWebDriver.find_element\u001b[0;34m(self, by, value)\u001b[0m\n\u001b[1;32m    828\u001b[0m     by \u001b[38;5;241m=\u001b[39m By\u001b[38;5;241m.\u001b[39mCSS_SELECTOR\n\u001b[1;32m    829\u001b[0m     value \u001b[38;5;241m=\u001b[39m \u001b[38;5;124mf\u001b[39m\u001b[38;5;124m'\u001b[39m\u001b[38;5;124m[name=\u001b[39m\u001b[38;5;124m\"\u001b[39m\u001b[38;5;132;01m{\u001b[39;00mvalue\u001b[38;5;132;01m}\u001b[39;00m\u001b[38;5;124m\"\u001b[39m\u001b[38;5;124m]\u001b[39m\u001b[38;5;124m'\u001b[39m\n\u001b[0;32m--> 831\u001b[0m \u001b[38;5;28;01mreturn\u001b[39;00m \u001b[38;5;28;43mself\u001b[39;49m\u001b[38;5;241;43m.\u001b[39;49m\u001b[43mexecute\u001b[49m\u001b[43m(\u001b[49m\u001b[43mCommand\u001b[49m\u001b[38;5;241;43m.\u001b[39;49m\u001b[43mFIND_ELEMENT\u001b[49m\u001b[43m,\u001b[49m\u001b[43m \u001b[49m\u001b[43m{\u001b[49m\u001b[38;5;124;43m\"\u001b[39;49m\u001b[38;5;124;43musing\u001b[39;49m\u001b[38;5;124;43m\"\u001b[39;49m\u001b[43m:\u001b[49m\u001b[43m \u001b[49m\u001b[43mby\u001b[49m\u001b[43m,\u001b[49m\u001b[43m \u001b[49m\u001b[38;5;124;43m\"\u001b[39;49m\u001b[38;5;124;43mvalue\u001b[39;49m\u001b[38;5;124;43m\"\u001b[39;49m\u001b[43m:\u001b[49m\u001b[43m \u001b[49m\u001b[43mvalue\u001b[49m\u001b[43m}\u001b[49m\u001b[43m)\u001b[49m[\u001b[38;5;124m\"\u001b[39m\u001b[38;5;124mvalue\u001b[39m\u001b[38;5;124m\"\u001b[39m]\n",
      "File \u001b[0;32m~/opt/anaconda3/lib/python3.9/site-packages/selenium/webdriver/remote/webdriver.py:440\u001b[0m, in \u001b[0;36mWebDriver.execute\u001b[0;34m(self, driver_command, params)\u001b[0m\n\u001b[1;32m    438\u001b[0m response \u001b[38;5;241m=\u001b[39m \u001b[38;5;28mself\u001b[39m\u001b[38;5;241m.\u001b[39mcommand_executor\u001b[38;5;241m.\u001b[39mexecute(driver_command, params)\n\u001b[1;32m    439\u001b[0m \u001b[38;5;28;01mif\u001b[39;00m response:\n\u001b[0;32m--> 440\u001b[0m     \u001b[38;5;28;43mself\u001b[39;49m\u001b[38;5;241;43m.\u001b[39;49m\u001b[43merror_handler\u001b[49m\u001b[38;5;241;43m.\u001b[39;49m\u001b[43mcheck_response\u001b[49m\u001b[43m(\u001b[49m\u001b[43mresponse\u001b[49m\u001b[43m)\u001b[49m\n\u001b[1;32m    441\u001b[0m     response[\u001b[38;5;124m\"\u001b[39m\u001b[38;5;124mvalue\u001b[39m\u001b[38;5;124m\"\u001b[39m] \u001b[38;5;241m=\u001b[39m \u001b[38;5;28mself\u001b[39m\u001b[38;5;241m.\u001b[39m_unwrap_value(response\u001b[38;5;241m.\u001b[39mget(\u001b[38;5;124m\"\u001b[39m\u001b[38;5;124mvalue\u001b[39m\u001b[38;5;124m\"\u001b[39m, \u001b[38;5;28;01mNone\u001b[39;00m))\n\u001b[1;32m    442\u001b[0m     \u001b[38;5;28;01mreturn\u001b[39;00m response\n",
      "File \u001b[0;32m~/opt/anaconda3/lib/python3.9/site-packages/selenium/webdriver/remote/errorhandler.py:245\u001b[0m, in \u001b[0;36mErrorHandler.check_response\u001b[0;34m(self, response)\u001b[0m\n\u001b[1;32m    243\u001b[0m         alert_text \u001b[38;5;241m=\u001b[39m value[\u001b[38;5;124m\"\u001b[39m\u001b[38;5;124malert\u001b[39m\u001b[38;5;124m\"\u001b[39m]\u001b[38;5;241m.\u001b[39mget(\u001b[38;5;124m\"\u001b[39m\u001b[38;5;124mtext\u001b[39m\u001b[38;5;124m\"\u001b[39m)\n\u001b[1;32m    244\u001b[0m     \u001b[38;5;28;01mraise\u001b[39;00m exception_class(message, screen, stacktrace, alert_text)  \u001b[38;5;66;03m# type: ignore[call-arg]  # mypy is not smart enough here\u001b[39;00m\n\u001b[0;32m--> 245\u001b[0m \u001b[38;5;28;01mraise\u001b[39;00m exception_class(message, screen, stacktrace)\n",
      "\u001b[0;31mNoSuchElementException\u001b[0m: Message: no such element: Unable to locate element: {\"method\":\"css selector\",\"selector\":\"button[aria-label='Go to next page']\"}\n  (Session info: chrome=113.0.5672.63)\nStacktrace:\n0   undetected_chromedriver             0x0000000103b3b598 undetected_chromedriver + 4973976\n1   undetected_chromedriver             0x0000000103b32913 undetected_chromedriver + 4938003\n2   undetected_chromedriver             0x00000001036efcd6 undetected_chromedriver + 470230\n3   undetected_chromedriver             0x00000001037332ff undetected_chromedriver + 746239\n4   undetected_chromedriver             0x0000000103733591 undetected_chromedriver + 746897\n5   undetected_chromedriver             0x0000000103775384 undetected_chromedriver + 1016708\n6   undetected_chromedriver             0x00000001037579ed undetected_chromedriver + 895469\n7   undetected_chromedriver             0x0000000103772856 undetected_chromedriver + 1005654\n8   undetected_chromedriver             0x0000000103757793 undetected_chromedriver + 894867\n9   undetected_chromedriver             0x000000010372521f undetected_chromedriver + 688671\n10  undetected_chromedriver             0x000000010372656e undetected_chromedriver + 693614\n11  undetected_chromedriver             0x0000000103af5bb7 undetected_chromedriver + 4688823\n12  undetected_chromedriver             0x0000000103afaa51 undetected_chromedriver + 4708945\n13  undetected_chromedriver             0x0000000103b0140f undetected_chromedriver + 4736015\n14  undetected_chromedriver             0x0000000103afb91a undetected_chromedriver + 4712730\n15  undetected_chromedriver             0x0000000103ace87c undetected_chromedriver + 4528252\n16  undetected_chromedriver             0x0000000103b1af28 undetected_chromedriver + 4841256\n17  undetected_chromedriver             0x0000000103b1b0a7 undetected_chromedriver + 4841639\n18  undetected_chromedriver             0x0000000103b2c28f undetected_chromedriver + 4911759\n19  libsystem_pthread.dylib             0x00007ff809f374e1 _pthread_start + 125\n20  libsystem_pthread.dylib             0x00007ff809f32f6b thread_start + 15\n"
     ]
    }
   ],
   "source": [
    "#this code does not take the last page\n",
    "\n",
    "while True:\n",
    "    #append data from tha last page\n",
    "    data = pd.read_html(driver.page_source)[0]\n",
    "    df_feb_2022_24_only = df_feb_2022_24_only.append(data)\n",
    "    \n",
    "    # find the \"next\" button element and click it\n",
    "    next_button = driver.find_element(By.CSS_SELECTOR, \"button[aria-label='Go to next page']\")\n",
    "    driver.execute_script(\"arguments[0].scrollIntoView();\", next_button)\n",
    "    time.sleep(0.1)        \n",
    "    driver.execute_script(\"arguments[0].click();\", next_button)\n",
    "    time.sleep(6) \n",
    "    # wait for the next page to load (you may need to adjust this depending on page load times)\n",
    "    \n",
    "    # check if there are more pages to scrape\n",
    "    if next_button.is_enabled() == False:\n",
    "        break"
   ]
  },
  {
   "cell_type": "code",
   "execution_count": 72,
   "id": "8a001619",
   "metadata": {
    "scrolled": true
   },
   "outputs": [
    {
     "name": "stderr",
     "output_type": "stream",
     "text": [
      "/var/folders/_m/_brk_qj1441f5htbhxk4bbvm0000gp/T/ipykernel_1137/3596965564.py:3: FutureWarning: The frame.append method is deprecated and will be removed from pandas in a future version. Use pandas.concat instead.\n",
      "  df_feb_2022_24_only = df_feb_2022_24_only.append(data)\n"
     ]
    }
   ],
   "source": [
    "#for taking raws from the last page\n",
    "data = pd.read_html(driver.page_source)[0]\n",
    "df_feb_2022_24_only = df_feb_2022_24_only.append(data)"
   ]
  },
  {
   "cell_type": "code",
   "execution_count": 224,
   "id": "155c4dbe",
   "metadata": {},
   "outputs": [],
   "source": [
    "#CODE TO MOVE IT TO THE PAGE I WANT\n",
    "\n",
    "page_count = 1\n",
    "while True:\n",
    "    # find the \"next\" button element and click it\n",
    "    next_button = driver.find_element(By.CSS_SELECTOR, \"button[aria-label='Go to next page']\")\n",
    "    driver.execute_script(\"arguments[0].scrollIntoView();\", next_button)\n",
    "    time.sleep(0.1)        \n",
    "    driver.execute_script(\"arguments[0].click();\", next_button)\n",
    "    time.sleep(2) \n",
    "    # wait for the next page to load (you may need to adjust this depending on page load times)\n",
    "    \n",
    "    # check if there are more pages to scrape\n",
    "    if next_button.is_enabled() == False:\n",
    "        break\n",
    "    \n",
    "    # increment page count and break the loop once the desired page is reached\n",
    "    page_count += 1\n",
    "    if page_count == 106:\n",
    "        break"
   ]
  },
  {
   "cell_type": "code",
   "execution_count": 73,
   "id": "83b3f47f",
   "metadata": {},
   "outputs": [
    {
     "data": {
      "text/html": [
       "<div>\n",
       "<style scoped>\n",
       "    .dataframe tbody tr th:only-of-type {\n",
       "        vertical-align: middle;\n",
       "    }\n",
       "\n",
       "    .dataframe tbody tr th {\n",
       "        vertical-align: top;\n",
       "    }\n",
       "\n",
       "    .dataframe thead th {\n",
       "        text-align: right;\n",
       "    }\n",
       "</style>\n",
       "<table border=\"1\" class=\"dataframe\">\n",
       "  <thead>\n",
       "    <tr style=\"text-align: right;\">\n",
       "      <th></th>\n",
       "      <th>Date, Time</th>\n",
       "      <th>Source</th>\n",
       "      <th>Amount, uah</th>\n",
       "      <th>Currency</th>\n",
       "      <th>Comment</th>\n",
       "    </tr>\n",
       "  </thead>\n",
       "  <tbody>\n",
       "    <tr>\n",
       "      <th>0</th>\n",
       "      <td>24.02.2022, 22:59</td>\n",
       "      <td>Fondy</td>\n",
       "      <td>2919.00</td>\n",
       "      <td>UAH</td>\n",
       "      <td>Благодійний внесок ***8306 (3000.00 UAH)</td>\n",
       "    </tr>\n",
       "    <tr>\n",
       "      <th>1</th>\n",
       "      <td>24.02.2022, 22:59</td>\n",
       "      <td>Fondy</td>\n",
       "      <td>973.00</td>\n",
       "      <td>UAH</td>\n",
       "      <td>Благодійний внесок ***0057 (1000.00 UAH)</td>\n",
       "    </tr>\n",
       "    <tr>\n",
       "      <th>2</th>\n",
       "      <td>24.02.2022, 22:59</td>\n",
       "      <td>Fondy</td>\n",
       "      <td>651.91</td>\n",
       "      <td>UAH</td>\n",
       "      <td>Благодійний внесок ***0389 (670.00 UAH)</td>\n",
       "    </tr>\n",
       "    <tr>\n",
       "      <th>3</th>\n",
       "      <td>24.02.2022, 22:59</td>\n",
       "      <td>Fondy</td>\n",
       "      <td>145.48</td>\n",
       "      <td>UAH</td>\n",
       "      <td>Благодійний внесок ***9633 (149.52 UAH)</td>\n",
       "    </tr>\n",
       "    <tr>\n",
       "      <th>4</th>\n",
       "      <td>24.02.2022, 22:59</td>\n",
       "      <td>Fondy</td>\n",
       "      <td>3517.39</td>\n",
       "      <td>UAH</td>\n",
       "      <td>Благодійний внесок ***3472 (3615.00 UAH)</td>\n",
       "    </tr>\n",
       "    <tr>\n",
       "      <th>...</th>\n",
       "      <td>...</td>\n",
       "      <td>...</td>\n",
       "      <td>...</td>\n",
       "      <td>...</td>\n",
       "      <td>...</td>\n",
       "    </tr>\n",
       "    <tr>\n",
       "      <th>10</th>\n",
       "      <td>23.02.2022, 23:00</td>\n",
       "      <td>Oschad</td>\n",
       "      <td>3000.00</td>\n",
       "      <td>UAH</td>\n",
       "      <td>Благодійна допомога військовослужбовцям</td>\n",
       "    </tr>\n",
       "    <tr>\n",
       "      <th>11</th>\n",
       "      <td>23.02.2022, 23:00</td>\n",
       "      <td>Oschad</td>\n",
       "      <td>2000.00</td>\n",
       "      <td>UAH</td>\n",
       "      <td>Благодійна допомога військовослужбовцям</td>\n",
       "    </tr>\n",
       "    <tr>\n",
       "      <th>12</th>\n",
       "      <td>23.02.2022, 23:00</td>\n",
       "      <td>Oschad</td>\n",
       "      <td>3000.00</td>\n",
       "      <td>UAH</td>\n",
       "      <td>Благодійна допомога військовослужбовцям</td>\n",
       "    </tr>\n",
       "    <tr>\n",
       "      <th>13</th>\n",
       "      <td>23.02.2022, 23:00</td>\n",
       "      <td>Oschad</td>\n",
       "      <td>12000.00</td>\n",
       "      <td>UAH</td>\n",
       "      <td>Благодійна допомога військовослужбовцям</td>\n",
       "    </tr>\n",
       "    <tr>\n",
       "      <th>14</th>\n",
       "      <td>23.02.2022, 23:00</td>\n",
       "      <td>Oschad</td>\n",
       "      <td>500.00</td>\n",
       "      <td>UAH</td>\n",
       "      <td>Благодійна допомога військовослужбовцям</td>\n",
       "    </tr>\n",
       "  </tbody>\n",
       "</table>\n",
       "<p>62230 rows × 5 columns</p>\n",
       "</div>"
      ],
      "text/plain": [
       "           Date, Time  Source  Amount, uah Currency  \\\n",
       "0   24.02.2022, 22:59   Fondy      2919.00      UAH   \n",
       "1   24.02.2022, 22:59   Fondy       973.00      UAH   \n",
       "2   24.02.2022, 22:59   Fondy       651.91      UAH   \n",
       "3   24.02.2022, 22:59   Fondy       145.48      UAH   \n",
       "4   24.02.2022, 22:59   Fondy      3517.39      UAH   \n",
       "..                ...     ...          ...      ...   \n",
       "10  23.02.2022, 23:00  Oschad      3000.00      UAH   \n",
       "11  23.02.2022, 23:00  Oschad      2000.00      UAH   \n",
       "12  23.02.2022, 23:00  Oschad      3000.00      UAH   \n",
       "13  23.02.2022, 23:00  Oschad     12000.00      UAH   \n",
       "14  23.02.2022, 23:00  Oschad       500.00      UAH   \n",
       "\n",
       "                                     Comment  \n",
       "0   Благодійний внесок ***8306 (3000.00 UAH)  \n",
       "1   Благодійний внесок ***0057 (1000.00 UAH)  \n",
       "2    Благодійний внесок ***0389 (670.00 UAH)  \n",
       "3    Благодійний внесок ***9633 (149.52 UAH)  \n",
       "4   Благодійний внесок ***3472 (3615.00 UAH)  \n",
       "..                                       ...  \n",
       "10   Благодійна допомога військовослужбовцям  \n",
       "11   Благодійна допомога військовослужбовцям  \n",
       "12   Благодійна допомога військовослужбовцям  \n",
       "13   Благодійна допомога військовослужбовцям  \n",
       "14   Благодійна допомога військовослужбовцям  \n",
       "\n",
       "[62230 rows x 5 columns]"
      ]
     },
     "execution_count": 73,
     "metadata": {},
     "output_type": "execute_result"
    }
   ],
   "source": [
    "df_feb_2022_24_only"
   ]
  },
  {
   "cell_type": "code",
   "execution_count": 43,
   "id": "e7a93e75",
   "metadata": {},
   "outputs": [],
   "source": [
    "# save the dataframe to a CSV file\n",
    "df_dec_2022_v3.to_csv('data_dec_2022_31.csv', index=False)"
   ]
  },
  {
   "cell_type": "code",
   "execution_count": 74,
   "id": "ab02cf8e",
   "metadata": {},
   "outputs": [],
   "source": [
    "# save the dataframe to a excel file\n",
    "#it is without the last page!\n",
    "df_feb_2022_24_only.to_excel('df_feb_2022_24_only.xlsx', index=False)"
   ]
  },
  {
   "cell_type": "code",
   "execution_count": null,
   "id": "b1447b50",
   "metadata": {},
   "outputs": [],
   "source": []
  },
  {
   "cell_type": "code",
   "execution_count": null,
   "id": "7492a6e5",
   "metadata": {},
   "outputs": [],
   "source": []
  }
 ],
 "metadata": {
  "kernelspec": {
   "display_name": "Python 3 (ipykernel)",
   "language": "python",
   "name": "python3"
  },
  "language_info": {
   "codemirror_mode": {
    "name": "ipython",
    "version": 3
   },
   "file_extension": ".py",
   "mimetype": "text/x-python",
   "name": "python",
   "nbconvert_exporter": "python",
   "pygments_lexer": "ipython3",
   "version": "3.9.12"
  }
 },
 "nbformat": 4,
 "nbformat_minor": 5
}
